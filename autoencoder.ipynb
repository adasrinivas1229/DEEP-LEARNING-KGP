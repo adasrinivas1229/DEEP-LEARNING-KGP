{
  "nbformat": 4,
  "nbformat_minor": 0,
  "metadata": {
    "colab": {
      "name": "ae3.ipynb",
      "provenance": [],
      "authorship_tag": "ABX9TyMBVPulPixczWgvqnj0g9rj",
      "include_colab_link": true
    },
    "kernelspec": {
      "name": "python3",
      "display_name": "Python 3"
    }
  },
  "cells": [
    {
      "cell_type": "markdown",
      "metadata": {
        "id": "view-in-github",
        "colab_type": "text"
      },
      "source": [
        "<a href=\"https://colab.research.google.com/github/adasrinivas1229/DEEP-LEARNING-KGP/blob/master/autoencoder.ipynb\" target=\"_parent\"><img src=\"https://colab.research.google.com/assets/colab-badge.svg\" alt=\"Open In Colab\"/></a>"
      ]
    },
    {
      "cell_type": "code",
      "metadata": {
        "id": "99tbrtTRx2_Q",
        "colab_type": "code",
        "colab": {
          "base_uri": "https://localhost:8080/",
          "height": 84
        },
        "outputId": "2892d0af-f5a8-4eee-b88c-f8ade73531a6"
      },
      "source": [
        "import os\n",
        "os.environ['TF_CPP_MIN_LOG_LEVEL'] = '3' \n",
        "import numpy as np\n",
        "import tensorflow as tf\n",
        "from matplotlib import image\n",
        "np.random.seed(1)\n",
        "tf.random.set_seed(1)\n",
        "\n",
        "\n",
        "\n",
        "class Encoder(tf.keras.layers.Layer):\n",
        "  def __init__(self, intermediate_dim):\n",
        "    super(Encoder, self).__init__()\n",
        "    # Start your code here...\n",
        "    # Define 2 Hidden layers and one Output layer. (Use Dense)\n",
        "    # Input -> Dense with intermediate_dim -> relu -> Dense with intermediate_dim/2 -> relu -> Dense with intermediate_dim/4 -> sigmoid\n",
        "    # Kernal Initializer : 'he_uniform'\n",
        "    self.hidden_layer = tf.keras.layers.Dense(                                  # Create dense layer with units: intermediate_dim, relu, initialize kernal with zeros\n",
        "      units=intermediate_dim,\n",
        "      activation=tf.nn.relu,\n",
        "      kernel_initializer='he_uniform' \n",
        "    )\n",
        "    self.hidden_layer1 = tf.keras.layers.Dense(                                 # Create second hidden layer as dense layer with half of the units of previous layer and relu. initialize with zeros\n",
        "      units=intermediate_dim//2,\n",
        "      activation=tf.nn.relu,\n",
        "      kernel_initializer='he_uniform'\n",
        "    )\n",
        "    self.output_layer = tf.keras.layers.Dense(                                  # Create the output layer as dense with intermidiate_dim/4 with sigmoid activation\n",
        "      units=intermediate_dim/4,  \n",
        "      activation=tf.nn.sigmoid\n",
        "    )\n",
        "    \n",
        "    \n",
        "    #End your code here...\n",
        "    \n",
        "  def call(self, input_features):\n",
        "    #Start your code here...\n",
        "    #create hidden layers for encoder.\n",
        "    activation = self.hidden_layer(input_features)\n",
        "    activation1 = self.hidden_layer1(activation)\n",
        "    #End your code here...\n",
        "    return self.output_layer(activation1)\n",
        "    \n",
        "class Decoder(tf.keras.layers.Layer):\n",
        "  def __init__(self, intermediate_dim, original_dim):\n",
        "    super(Decoder, self).__init__()\n",
        "\n",
        "    # Start your code here...\n",
        "    # Define 2 Hidden layers and one Output layer. (Use Dense)\n",
        "    # Input -> Dense with intermediate_dim/2 -> relu -> Dense with intermediate_dim -> relu -> Dense with original_dim -> sigmoid\n",
        "    # Kernal Initializer : 'he_uniform'\n",
        "    self.hidden_layer = tf.keras.layers.Dense(                                  # Create first hidden layer of decoder with Intermediate_dim/2 with relu activation\n",
        "      units=intermediate_dim//2,\n",
        "      activation=tf.nn.relu,\n",
        "      kernel_initializer='he_uniform' #'he_uniform'\n",
        "    )\n",
        "    self.hidden_layer1 = tf.keras.layers.Dense(                                 # Create second hidden layer of decoder with Intermediate_dim with relu activation\n",
        "      units=intermediate_dim,\n",
        "      activation=tf.nn.relu,\n",
        "      kernel_initializer='he_uniform' #'he_uniform'\n",
        "    )\n",
        "    self.output_layer = tf.keras.layers.Dense(                                  #Create output layer to reconstruct image with Original_dim and sigmoid activation\n",
        "      units=original_dim,\n",
        "      activation=tf.nn.sigmoid #tf.nn.sigmoid\n",
        "    )\n",
        "  def call(self, code):\n",
        "    activation = self.hidden_layer(code)\n",
        "    activation1 = self.hidden_layer1(activation)\n",
        "    return self.output_layer(activation1)\n",
        "  \n",
        "    \n",
        "    #End your code here...\n",
        "\n",
        "class Autoencoder(tf.keras.Model):\n",
        "  def __init__(self, intermediate_dim, original_dim):\n",
        "    super(Autoencoder, self).__init__()\n",
        "\n",
        "    #Start your code here...\n",
        "    self.encoder = Encoder(intermediate_dim=intermediate_dim)                   # initialize encoder in autoencoder object\n",
        "    self.decoder = Decoder(intermediate_dim=intermediate_dim, original_dim=original_dim)  #initialize decoder in autoencoder object\n",
        "    #End your code here...\n",
        "\n",
        "  def call(self, input_features):\n",
        "    #Start your code here..              # Define the sequence of execution of encoder and decoder by calling encoder and decoder\n",
        "    code = self.encoder(input_features)                          # Generate Data Representation  \n",
        "    reconstructed = self.decoder(code)                # Generate Output (Original Image)\n",
        "    #End your code here...\n",
        "    return reconstructed\n",
        "\n",
        "\n",
        "autoencoder1 = Autoencoder(intermediate_dim=15, original_dim=5)\n",
        "print(autoencoder1(tf.constant([[4,2,3,4,2],[3,4,5,5,3],[0,0,0,5,2]])))\n",
        "\n"
      ],
      "execution_count": 1,
      "outputs": [
        {
          "output_type": "stream",
          "text": [
            "tf.Tensor(\n",
            "[[0.5065421  0.46155936 0.5502022  0.63476837 0.4682486 ]\n",
            " [0.5105123  0.47755352 0.5450222  0.5963407  0.476481  ]\n",
            " [0.50306594 0.46875757 0.53875476 0.6331072  0.47941697]], shape=(3, 5), dtype=float32)\n"
          ],
          "name": "stdout"
        }
      ]
    }
  ]
}